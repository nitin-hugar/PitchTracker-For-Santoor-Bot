{
 "cells": [
  {
   "cell_type": "code",
   "execution_count": 283,
   "metadata": {},
   "outputs": [],
   "source": [
    "import numpy as np\n",
    "import scipy\n",
    "import matplotlib.pyplot as plt\n",
    "from scipy import signal\n",
    "import math\n",
    "from scipy.signal import fftconvolve\n",
    "from scipy.fft import fft"
   ]
  },
  {
   "cell_type": "code",
   "execution_count": 114,
   "metadata": {},
   "outputs": [
    {
     "data": {
      "text/plain": [
       "'\\n1. Load dataset\\n2. Run algorithms\\n3. Run pitch algorithms\\n4. Compare rmse and computational time\\n'"
      ]
     },
     "execution_count": 114,
     "metadata": {},
     "output_type": "execute_result"
    }
   ],
   "source": [
    "\"\"\"\n",
    "1. Load dataset\n",
    "2. Run algorithms\n",
    "3. Run pitch algorithms\n",
    "4. Compare rmse and computational time\n",
    "\"\"\""
   ]
  },
  {
   "cell_type": "markdown",
   "metadata": {},
   "source": [
    "## Load audio"
   ]
  },
  {
   "cell_type": "code",
   "execution_count": 54,
   "metadata": {},
   "outputs": [],
   "source": [
    "# Generate a test sine wave with \"N\" octave frequency changes, all with amplityde = 1\n",
    "\n",
    "def gen_sine_test(f0, N, dur, fs):\n",
    "    # f0 = base frequency, N = octave multiplier, dur = Duration of each note, fs = sampling rate\n",
    "    \n",
    "    test_wave = np.array([])\n",
    "    t_init = 0\n",
    "    for wave_num in np.arange(1, N+1):\n",
    "        f1 = f0*wave_num\n",
    "        t = np.arange(t_init, t_init + dur, 1./fs)\n",
    "        wave = np.sin(2*np.pi*f1*t)\n",
    "        t_init = t_init + dur\n",
    "        test_wave = np.append(test_wave, wave)\n",
    "        \n",
    "    return test_wave"
   ]
  },
  {
   "cell_type": "code",
   "execution_count": 165,
   "metadata": {},
   "outputs": [],
   "source": [
    "f0 = 1000\n",
    "N = 3\n",
    "dur = 1\n",
    "fs = 44100\n",
    "x = gen_sine_test(f0, N, dur, fs)\n",
    "x = x.astype('float64')"
   ]
  },
  {
   "cell_type": "code",
   "execution_count": 91,
   "metadata": {},
   "outputs": [],
   "source": [
    "blockSize = 2048\n",
    "hopSize = blockSize//4"
   ]
  },
  {
   "cell_type": "code",
   "execution_count": 92,
   "metadata": {},
   "outputs": [],
   "source": [
    "f, t, X = scipy.signal.spectrogram(x, fs, window=('hanning'), nperseg=blockSize, noverlap=hopSize, nfft=blockSize, detrend='constant', return_onesided=True, scaling='density', axis=- 1, mode='psd')"
   ]
  },
  {
   "cell_type": "code",
   "execution_count": 93,
   "metadata": {},
   "outputs": [
    {
     "data": {
      "image/png": "[encoded data removed]",
      "text/plain": [
       "<Figure size 432x288 with 1 Axes>"
      ]
     },
     "metadata": {
      "needs_background": "light"
     },
     "output_type": "display_data"
    }
   ],
   "source": [
    "plt.pcolormesh(t, f, X, shading='gouraud')\n",
    "plt.ylabel('Frequency [Hz]')\n",
    "plt.xlabel('Time [sec]')\n",
    "plt.show()"
   ]
  },
  {
   "cell_type": "code",
   "execution_count": 157,
   "metadata": {},
   "outputs": [],
   "source": [
    "def  block_audio(x,blockSize,hopSize,fs):    \n",
    "    # allocate memory    \n",
    "    numBlocks = math.ceil(x.size / hopSize)    \n",
    "    xb = np.zeros([numBlocks, blockSize])    \n",
    "    # compute time stamps    \n",
    "    t = (np.arange(0, numBlocks) * hopSize) / fs    \n",
    "    x = np.concatenate((x, np.zeros(blockSize)),axis=0)    \n",
    "    for n in range(0, numBlocks):        \n",
    "        i_start = n * hopSize        \n",
    "        i_stop = np.min([x.size - 1, i_start + blockSize - 1])        \n",
    "        xb[n][np.arange(0,blockSize)] = x[np.arange(i_start, i_stop + 1)]    \n",
    "    return (xb,t)"
   ]
  },
  {
   "cell_type": "code",
   "execution_count": 221,
   "metadata": {},
   "outputs": [],
   "source": [
    "blockSize = 2048\n",
    "hopSize = blockSize//2\n",
    "fs = 44100\n",
    "xb, t = block_audio(x,blockSize,hopSize,fs)"
   ]
  },
  {
   "cell_type": "markdown",
   "metadata": {},
   "source": [
    "## Autocorrelation"
   ]
  },
  {
   "cell_type": "code",
   "execution_count": 222,
   "metadata": {},
   "outputs": [],
   "source": [
    "# Nitin's acf"
   ]
  },
  {
   "cell_type": "markdown",
   "metadata": {},
   "source": [
    "## YIN"
   ]
  },
  {
   "cell_type": "code",
   "execution_count": 261,
   "metadata": {},
   "outputs": [],
   "source": [
    "def YIN_diff_function_conv(block, f0min, fs):\n",
    "    f0min = 50\n",
    "    tau_max = fs//f0min\n",
    "    w = block.size\n",
    "    block_cumsum = np.concatenate((np.array([0]), (block * block).cumsum()))\n",
    "    conv = fftconvolve(block, block[::-1])\n",
    "    tmp = block_cumsum[w:0:-1] + block_cumsum[w] - block_cumsum[:w] - 2*conv[w-1:]\n",
    "    #return tmp[:tau_max+1]\n",
    "    return tmp\n",
    "\n",
    "def CMND_YIN(d, N):\n",
    "    \"\"\"\n",
    "    Compute cumulative mean normalized difference function (CMND).\n",
    "    df: Difference function\n",
    "    N: length of data\n",
    "    Return: cumulative mean normalized difference function\n",
    "    \"\"\"\n",
    "\n",
    "    cmndf = d[1:] * range(1, N) / np.cumsum(d[1:]).astype(float) #scipy method\n",
    "    return np.insert(cmndf, 0, 1)\n",
    "\n",
    "def getPitch(cmdf, tau_min, tau_max, harmo_th=0.1):\n",
    "    \"\"\"\n",
    "    Return fundamental period of a frame based on CMND function.\n",
    "    :param tau_min: minimum period of utterance\n",
    "    :param tau_max: maximum period of utterance\n",
    "    :param harmo_th: harmonicity threshold to determine if it is necessary to compute pitch frequency\n",
    "    :return: fundamental period if there is values under threshold, 0 otherwise\n",
    "    \"\"\"\n",
    "    tau = tau_min\n",
    "    while tau < tau_max:\n",
    "        if cmdf[tau] < harmo_th:\n",
    "            while tau + 1 < tau_max and cmdf[tau + 1] < cmdf[tau]:\n",
    "                tau += 1\n",
    "            return tau\n",
    "        tau += 1\n",
    "\n",
    "    return 0    # if unvoiced"
   ]
  },
  {
   "cell_type": "code",
   "execution_count": 262,
   "metadata": {},
   "outputs": [],
   "source": [
    "block = xb[0]\n",
    "f0min = 50\n",
    "f0max = 2000\n",
    "tau_min = fs//f0max\n",
    "tau_max = fs//f0min\n",
    "harmo_th = 0.1\n",
    "\n",
    "d = YIN_diff_function_conv(block, f0min, fs)"
   ]
  },
  {
   "cell_type": "code",
   "execution_count": 263,
   "metadata": {},
   "outputs": [
    {
     "data": {
      "text/plain": [
       "[<matplotlib.lines.Line2D at 0x128811518>]"
      ]
     },
     "execution_count": 263,
     "metadata": {},
     "output_type": "execute_result"
    },
    {
     "data": {
      "image/png": "[encoded data removed]",
      "text/plain": [
       "<Figure size 432x288 with 1 Axes>"
      ]
     },
     "metadata": {
      "needs_background": "light"
     },
     "output_type": "display_data"
    }
   ],
   "source": [
    "plt.plot(d)"
   ]
  },
  {
   "cell_type": "code",
   "execution_count": 269,
   "metadata": {},
   "outputs": [],
   "source": [
    "cmdf = CMND_YIN(d, len(block))"
   ]
  },
  {
   "cell_type": "code",
   "execution_count": 270,
   "metadata": {},
   "outputs": [
    {
     "data": {
      "text/plain": [
       "[<matplotlib.lines.Line2D at 0x128536c18>]"
      ]
     },
     "execution_count": 270,
     "metadata": {},
     "output_type": "execute_result"
    },
    {
     "data": {
      "image/png": "[encoded data removed]",
      "text/plain": [
       "<Figure size 432x288 with 1 Axes>"
      ]
     },
     "metadata": {
      "needs_background": "light"
     },
     "output_type": "display_data"
    }
   ],
   "source": [
    "plt.plot(cmdf)"
   ]
  },
  {
   "cell_type": "code",
   "execution_count": 266,
   "metadata": {},
   "outputs": [],
   "source": [
    "pitch = getPitch(cmdf, tau_min, tau_max, harmo_th=0.1)"
   ]
  },
  {
   "cell_type": "code",
   "execution_count": 268,
   "metadata": {},
   "outputs": [
    {
     "data": {
      "text/plain": [
       "44"
      ]
     },
     "execution_count": 268,
     "metadata": {},
     "output_type": "execute_result"
    }
   ],
   "source": [
    "pitch"
   ]
  },
  {
   "cell_type": "code",
   "execution_count": 252,
   "metadata": {},
   "outputs": [
    {
     "data": {
      "text/plain": [
       "(2048,)"
      ]
     },
     "execution_count": 252,
     "metadata": {},
     "output_type": "execute_result"
    }
   ],
   "source": []
  },
  {
   "cell_type": "code",
   "execution_count": null,
   "metadata": {},
   "outputs": [],
   "source": []
  },
  {
   "cell_type": "code",
   "execution_count": null,
   "metadata": {},
   "outputs": [],
   "source": []
  },
  {
   "cell_type": "code",
   "execution_count": null,
   "metadata": {},
   "outputs": [],
   "source": []
  },
  {
   "cell_type": "code",
   "execution_count": 94,
   "metadata": {},
   "outputs": [
    {
     "name": "stdout",
     "output_type": "stream",
     "text": [
      "(array([  0,   1, 282, 326, 442]),)\n"
     ]
    },
    {
     "data": {
      "image/png": "[encoded data removed]",
      "text/plain": [
       "<Figure size 432x288 with 2 Axes>"
      ]
     },
     "metadata": {
      "needs_background": "light"
     },
     "output_type": "display_data"
    }
   ],
   "source": [
    "W = 511\n",
    "w = np.hamming(W)\n",
    "w = w / sum(w)\n",
    "\n",
    "\"\"\"\n",
    "d(j, tau) = (1/W) * summation(j=1:W)(x[j]-x[j+tau])**2\n",
    "\"\"\"\n",
    "\n",
    "d = np.zeros([])\n",
    "\n",
    "#Difference function\n",
    "for tau in range(W):\n",
    "    for j in range(W):\n",
    "        diff = (x[j] - x[j + tau])**2\n",
    "    d = np.append(d, diff)\n",
    "# print (d)\n",
    "\n",
    "tp_temp = np.where(d < 0.0001)\n",
    "print (tp_temp)\n",
    "\n",
    "fig = plt.figure()\n",
    "ax1 = fig.add_subplot(211)\n",
    "ax1.plot(x[:blockSize])\n",
    "\n",
    "ax2 = fig.add_subplot(212)\n",
    "ax2.plot(d)\n",
    "plt.show()"
   ]
  },
  {
   "cell_type": "code",
   "execution_count": 95,
   "metadata": {},
   "outputs": [],
   "source": [
    "locs = np.array([])\n",
    "for i, test in enumerate(d):\n",
    "    if i == 0 or i == len(d):\n",
    "        i = i\n",
    "    if i > 0:\n",
    "        if d[i] < d[i-1] and d[i] < d[i+1]:\n",
    "            locs = np.append(locs, i)"
   ]
  },
  {
   "cell_type": "code",
   "execution_count": 96,
   "metadata": {},
   "outputs": [
    {
     "name": "stdout",
     "output_type": "stream",
     "text": [
      "[ 17.  45.  61.  89. 106. 133. 150. 177. 194. 222. 238. 266. 282. 310.\n",
      " 326. 354. 370. 398. 414. 442. 458. 486. 502.]\n",
      "[28. 16. 28. 17. 27. 17. 27. 17. 28. 16. 28. 16. 28. 16. 28. 16. 28. 16.\n",
      " 28. 16. 28. 16.]\n"
     ]
    }
   ],
   "source": [
    "print (locs)\n",
    "print (np.diff(locs))"
   ]
  },
  {
   "cell_type": "code",
   "execution_count": 101,
   "metadata": {},
   "outputs": [
    {
     "data": {
      "text/plain": [
       "2594.1176470588234"
      ]
     },
     "execution_count": 101,
     "metadata": {},
     "output_type": "execute_result"
    }
   ],
   "source": [
    "fs/np.diff(locs)[3]"
   ]
  },
  {
   "cell_type": "code",
   "execution_count": null,
   "metadata": {},
   "outputs": [],
   "source": []
  },
  {
   "cell_type": "code",
   "execution_count": 117,
   "metadata": {},
   "outputs": [
    {
     "data": {
      "text/plain": [
       "array([ 0,  1,  3,  6, 10, 15, 21, 28, 36, 45])"
      ]
     },
     "execution_count": 117,
     "metadata": {},
     "output_type": "execute_result"
    }
   ],
   "source": [
    "A = np.arange(10)\n",
    "np.cumsum(A)"
   ]
  },
  {
   "cell_type": "code",
   "execution_count": 130,
   "metadata": {},
   "outputs": [
    {
     "name": "stdout",
     "output_type": "stream",
     "text": [
      "[1 2 3 4 5 6 7 8 9]\n",
      "[ 1  4  9 16 25 36 49 64 81]\n"
     ]
    }
   ],
   "source": [
    "print (A[1:])\n",
    "print (A[1:]*range(1, 10))"
   ]
  },
  {
   "cell_type": "code",
   "execution_count": null,
   "metadata": {},
   "outputs": [],
   "source": []
  },
  {
   "cell_type": "code",
   "execution_count": null,
   "metadata": {},
   "outputs": [],
   "source": []
  },
  {
   "cell_type": "code",
   "execution_count": 514,
   "metadata": {},
   "outputs": [],
   "source": [
    "def compute_yin(x, sr=44100, dataFileName=None, blockSize=512, hopSize=256, f0_min=100, f0_max=2000, harmo_thresh=0.1):\n",
    "    \"\"\"\n",
    "    Compute the Yin Algorithm. Return fundamental frequency and harmonic rate.\n",
    "    :param sig: Audio signal (list of float)\n",
    "    :param sr: sampling rate (int)\n",
    "    :param w_len: size of the analysis window (samples)\n",
    "    :param w_step: size of the lag between two consecutives windows (samples)\n",
    "    :param f0_min: Minimum fundamental frequency that can be detected (hertz)\n",
    "    :param f0_max: Maximum fundamental frequency that can be detected (hertz)\n",
    "    :param harmo_tresh: Threshold of detection. The yalgorithmù return the first minimum of the CMND fubction below this treshold.\n",
    "    :returns:\n",
    "        * pitches: list of fundamental frequencies,\n",
    "        * harmonic_rates: list of harmonic rate values for each fundamental frequency value (= confidence value)\n",
    "        * argmins: minimums of the Cumulative Mean Normalized DifferenceFunction\n",
    "        * times: list of time of each estimation\n",
    "    :rtype: tuple\n",
    "    \"\"\"\n",
    "\n",
    "    print('Yin: compute yin algorithm')\n",
    "    tau_min = int(sr / f0_max)\n",
    "    tau_max = int(sr / f0_min)\n",
    "    \n",
    "    frames, timeInSec = block_audio(x, blockSize, hopSize, fs)\n",
    "\n",
    "    pitches = np.zeros(len(timeInSec))\n",
    "    harmonic_rates = np.zeros(len(timeInSec))\n",
    "    argmins = np.zeros(len(timeInSec))\n",
    "\n",
    "    for i, frame in enumerate(frames):\n",
    "\n",
    "        print (i)\n",
    "        #Compute YIN\n",
    "        df, W = differenceFunction(frame)#CMND_YIN(d, N)\n",
    "        cmdf = CMND_YIN(df, W)\n",
    "        p = getPitch(cmdf, tau_min, tau_max, harmo_thresh)\n",
    "\n",
    "        #Get results\n",
    "        if np.argmin(cmdf)>tau_min:\n",
    "            argmins[i] = float(sr / np.argmin(cmdf))\n",
    "        if p != 0: # A pitch was found\n",
    "            pitches[i] = float(sr / p)\n",
    "            harmonic_rates[i] = cmdf[p]\n",
    "        else: # No pitch, but we compute a value of the harmonic rate\n",
    "            harmonic_rates[i] = min(cmdf)\n",
    "\n",
    "    return pitches, harmonic_rates, argmins"
   ]
  },
  {
   "cell_type": "code",
   "execution_count": 515,
   "metadata": {},
   "outputs": [
    {
     "name": "stdout",
     "output_type": "stream",
     "text": [
      "Yin: compute yin algorithm\n",
      "0\n",
      "1\n"
     ]
    },
    {
     "name": "stderr",
     "output_type": "stream",
     "text": [
      "/Users/saksham/anaconda3/lib/python3.7/site-packages/ipykernel_launcher.py:19: RuntimeWarning: invalid value encountered in true_divide\n"
     ]
    }
   ],
   "source": [
    "f_YIN, harmonic_YIN, argmins_YIN = compute_yin(x, fs, blockSize=2048, hopSize=blockSize//2, f0_min=100, f0_max=2000, harmo_thresh=0.1)"
   ]
  },
  {
   "cell_type": "markdown",
   "metadata": {},
   "source": [
    "## Two way mismatch"
   ]
  },
  {
   "cell_type": "code",
   "execution_count": 506,
   "metadata": {},
   "outputs": [],
   "source": [
    "def dft(x, w, N):\n",
    "    \"\"\"\n",
    "    Analysis of a signal using the discrete Fourier transform\n",
    "    x: input signal, w: analysis window, N: FFT size\n",
    "    returns mX, pX: magnitude and phase spectrum\n",
    "    \"\"\"\n",
    "\n",
    "    hN = (N // 2) + 1                                           # size of positive spectrum, it includes sample 0\n",
    "    hM1 = (w.size + 1) // 2                                     # half analysis window size by rounding\n",
    "    hM2 = w.size // 2                                         # half analysis window size by floor\n",
    "    fftbuffer = np.zeros(N)                                 # initialize buffer for FFT\n",
    "    w = w / sum(w)                                          # normalize analysis window\n",
    "    xw = x * w                                                # window the input sound\n",
    "    fftbuffer[:hM1] = xw[hM2:]                              # zero-phase window in fftbuffer\n",
    "    fftbuffer[-hM2:] = xw[:hM2]\n",
    "    X = fft(fftbuffer)                                      # compute FFT\n",
    "    absX = abs(X[:hN])                                      # compute ansolute value of positive side\n",
    "    absX[absX < np.finfo(float).eps] = np.finfo(float).eps    # if zeros add epsilon to handle log\n",
    "    mX = 20 * np.log10(absX)                                # magnitude spectrum of positive frequencies in dB\n",
    "    X[:hN].real[np.abs(X[:hN].real) < 1e-14] = 0.0            # for phase calculation set to 0 the small values\n",
    "    X[:hN].imag[np.abs(X[:hN].imag) < 1e-14] = 0.0            # for phase calculation set to 0 the small values\n",
    "    pX = np.unwrap(np.angle(X[:hN]))                        # unwrapped phase spectrum of positive frequencies\n",
    "    return mX, pX\n",
    "\n",
    "def peakDetection(mX, t):\n",
    "    \"\"\"\n",
    "    Detect spectral peak locations\n",
    "    mX: magnitude spectrum, t: threshold\n",
    "    returns ploc: peak locations\n",
    "    \"\"\"\n",
    "\n",
    "    thresh = np.where(np.greater(mX[1:-1], t), mX[1:-1], 0);  # locations above threshold\n",
    "    next_minor = np.where(mX[1:-1] > mX[2:], mX[1:-1], 0)     # locations higher than the next one\n",
    "    prev_minor = np.where(mX[1:-1] > mX[:-2], mX[1:-1], 0)    # locations higher than the previous one\n",
    "    ploc = thresh * next_minor * prev_minor                 # locations fulfilling the three criteria\n",
    "    ploc = ploc.nonzero()[0] + 1                            # add 1 to compensate for previous steps\n",
    "    return ploc\n",
    "\n",
    "def peakInterp(mX, pX, ploc):\n",
    "    \"\"\"\n",
    "    Interpolate peak values using parabolic interpolation\n",
    "    mX, pX: magnitude and phase spectrum, ploc: locations of peaks\n",
    "    returns iploc, ipmag, ipphase: interpolated peak location, magnitude and phase values\n",
    "    \"\"\"\n",
    "\n",
    "    val = mX[ploc]                                          # magnitude of peak bin\n",
    "    lval = mX[ploc - 1]                                       # magnitude of bin at left\n",
    "    rval = mX[ploc + 1]                                       # magnitude of bin at right\n",
    "    iploc = ploc + 0.5 * (lval - rval) / (lval - 2 * val + rval)        # center of parabola\n",
    "    ipmag = val - 0.25 * (lval - rval) * (iploc - ploc)             # magnitude of peaks\n",
    "    ipphase = np.interp(iploc, np.arange(0, pX.size), pX)   # phase of peaks by linear interpolation\n",
    "    return iploc, ipmag, ipphase\n",
    "\n",
    "def TWM(pfreq, pmag, f0c):\n",
    "    \"\"\"\n",
    "    Two-way mismatch algorithm for f0 detection (by Beauchamp&Maher)\n",
    "    pfreq, pmag: peak frequencies in Hz and magnitudes,\n",
    "    f0c: frequencies of f0 candidates\n",
    "    returns f0, f0Error: fundamental frequency detected and its error\n",
    "    \"\"\"\n",
    "\n",
    "    p = 0.5                                          # weighting by frequency value\n",
    "    q = 1.4                                          # weighting related to magnitude of peaks\n",
    "    r = 0.5                                          # scaling related to magnitude of peaks\n",
    "    rho = 0.33                                       # weighting of MP error\n",
    "    Amax = max(pmag)                                 # maximum peak magnitude\n",
    "    maxnpeaks = 10                                   # maximum number of peaks used\n",
    "    harmonic = np.matrix(f0c)\n",
    "    ErrorPM = np.zeros(harmonic.size)                # initialize PM errors\n",
    "    MaxNPM = min(maxnpeaks, pfreq.size)\n",
    "    for i in range(0, MaxNPM):                      # predicted to measured mismatch error\n",
    "        difmatrixPM = harmonic.T * np.ones(pfreq.size)\n",
    "        difmatrixPM = abs(difmatrixPM - np.ones((harmonic.size, 1)) * pfreq)\n",
    "        FreqDistance = np.amin(difmatrixPM, axis=1)    # minimum along rows\n",
    "        peakloc = np.argmin(difmatrixPM, axis=1)\n",
    "        Ponddif = np.array(FreqDistance) * (np.array(harmonic.T)**(-p))\n",
    "        PeakMag = pmag[peakloc]\n",
    "        MagFactor = 10**((PeakMag - Amax) / 20)\n",
    "        ErrorPM = ErrorPM + (Ponddif + MagFactor * (q * Ponddif - r)).T\n",
    "        harmonic = harmonic + f0c\n",
    "\n",
    "    ErrorMP = np.zeros(harmonic.size)                # initialize MP errors\n",
    "    MaxNMP = min(maxnpeaks, pfreq.size)\n",
    "    for i in range(0, f0c.size):                    # measured to predicted mismatch error\n",
    "        nharm = np.round(pfreq[:MaxNMP] / f0c[i])\n",
    "        nharm = (nharm >= 1) * nharm + (nharm < 1)\n",
    "        FreqDistance = abs(pfreq[:MaxNMP] - nharm * f0c[i])\n",
    "        Ponddif = FreqDistance * (pfreq[:MaxNMP]**(-p))\n",
    "        PeakMag = pmag[:MaxNMP]\n",
    "        MagFactor = 10**((PeakMag - Amax) / 20)\n",
    "        ErrorMP[i] = sum(MagFactor * (Ponddif + MagFactor * (q * Ponddif - r)))\n",
    "    Error = (ErrorPM[0] / MaxNPM) + (rho * ErrorMP / MaxNMP)  # total error\n",
    "    f0c_shortlist = np.array([])\n",
    "    Error_shortlist = np.array([])    \n",
    "    if len(Error) == 1:\n",
    "#         print (Error)\n",
    "        f0c_shortlist = np.append(f0c_shortlist, f0c)\n",
    "        Error_shortlist = np.append(Error_shortlist, Error)\n",
    "    if len(Error) >= 2: \n",
    "#         print (Error)\n",
    "#         for i in range(10):                                   # get candidates with smallest error\n",
    "        f0index = np.argmin(Error)                       # get the smallest error\n",
    "#         print (f0index)\n",
    "        Error1 = Error[f0index]\n",
    "#         print (Error1)\n",
    "        f01 = f0c[f0index]                                # f0 with the smallest error\n",
    "#         print (f01)\n",
    "        f0c_shortlist = np.append(f0c_shortlist, f01)\n",
    "        Error_shortlist = np.append(Error_shortlist, Error1)\n",
    "        f0c = np.delete(f0c, f0index)\n",
    "        Error = np.delete(Error, f0index)\n",
    "    \n",
    "    return f0c_shortlist, Error_shortlist\n",
    "\n",
    "def TWM_errors(pfreq, pmag, f0c):\n",
    "    \"\"\"\n",
    "    Two-way mismatch algorithm for f0 detection (by Beauchamp&Maher)\n",
    "    pfreq, pmag: peak frequencies in Hz and magnitudes,\n",
    "    f0c: frequencies of f0 candidates\n",
    "    returns f0, f0Error: fundamental frequency detected and its error\n",
    "    \"\"\"\n",
    "\n",
    "    p = 0.5                                          # weighting by frequency value\n",
    "    q = 1.4                                          # weighting related to magnitude of peaks\n",
    "    r = 0.5                                          # scaling related to magnitude of peaks\n",
    "    rho = 0.33                                       # weighting of MP error\n",
    "    Amax = max(pmag)                                 # maximum peak magnitude\n",
    "    maxnpeaks = 10                                   # maximum number of peaks used\n",
    "    harmonic = np.matrix(f0c)\n",
    "    ErrorPM = np.zeros(harmonic.size)                # initialize PM errors\n",
    "    MaxNPM = min(maxnpeaks, pfreq.size)\n",
    "    for i in range(0, MaxNPM):                      # predicted to measured mismatch error\n",
    "        difmatrixPM = harmonic.T * np.ones(pfreq.size)\n",
    "        difmatrixPM = abs(difmatrixPM - np.ones((harmonic.size, 1)) * pfreq)\n",
    "        FreqDistance = np.amin(difmatrixPM, axis=1)    # minimum along rows\n",
    "        peakloc = np.argmin(difmatrixPM, axis=1)\n",
    "        Ponddif = np.array(FreqDistance) * (np.array(harmonic.T)**(-p))\n",
    "        PeakMag = pmag[peakloc]\n",
    "        MagFactor = 10**((PeakMag - Amax) / 20)\n",
    "        ErrorPM = ErrorPM + (Ponddif + MagFactor * (q * Ponddif - r)).T\n",
    "        harmonic = harmonic + f0c\n",
    "\n",
    "    ErrorMP = np.zeros(harmonic.size)                # initialize MP errors\n",
    "    MaxNMP = min(maxnpeaks, pfreq.size)\n",
    "    for i in range(0, f0c.size):                    # measured to predicted mismatch error\n",
    "        nharm = np.round(pfreq[:MaxNMP] / f0c[i])\n",
    "        nharm = (nharm >= 1) * nharm + (nharm < 1)\n",
    "        FreqDistance = abs(pfreq[:MaxNMP] - nharm * f0c[i])\n",
    "        Ponddif = FreqDistance * (pfreq[:MaxNMP]**(-p))\n",
    "        PeakMag = pmag[:MaxNMP]\n",
    "        MagFactor = 10**((PeakMag - Amax) / 20)\n",
    "        ErrorMP[i] = sum(MagFactor * (Ponddif + MagFactor * (q * Ponddif - r)))\n",
    "\n",
    "    Error = (ErrorPM[0] / MaxNPM) + (rho * ErrorMP / MaxNMP)  # total error\n",
    "    \n",
    "    return Error\n",
    "\n",
    "def f0_detection_TWM(xb, w, blockSize, t, f0min, f0max, fs):\n",
    "    \n",
    "    num_blocks = xb.shape[0]\n",
    "    f0cf = np.zeros(num_blocks)\n",
    "    f0Errors = np.zeros(num_blocks)\n",
    "    for i, block in enumerate(xb):\n",
    "#     print (i)\n",
    "        mX, pX = dft(block, w, blockSize)\n",
    "        ploc = peakDetection(mX, t)                            # detect peak locations\n",
    "        iploc, ipmag, ipphase = peakInterp(mX, pX, ploc)\n",
    "    \n",
    "        if len(ipmag) != 0:\n",
    "            ipfreq = fs*iploc/blockSize\n",
    "            f0c = np.argwhere((ipfreq>f0_min) & (ipfreq<f0_max))[:, 0]\n",
    "            f0cf_block = ipfreq[f0c]\n",
    "            f0c, Error = TWM(ipfreq, ipmag, f0cf_block)\n",
    "            f0cf[i] = f0c\n",
    "            f0Errors[i] = Error\n",
    "    \n",
    "        if len(ipmag) == 0:\n",
    "            f0cf[i] = f0c\n",
    "            f0Errors[i] = Error\n",
    "            \n",
    "    return f0cf, f0Errors"
   ]
  },
  {
   "cell_type": "code",
   "execution_count": 518,
   "metadata": {},
   "outputs": [],
   "source": [
    "w = np.hanning(blockSize)\n",
    "# Threshold in dB\n",
    "t = -50\n",
    "f0min = 50\n",
    "f0max = 5000\n",
    "fs = 44100\n",
    "\n",
    "f0, errors = f0_detection_TWM(xb, w, blockSize, t, f0min, f0max, fs)"
   ]
  },
  {
   "cell_type": "code",
   "execution_count": 517,
   "metadata": {},
   "outputs": [
    {
     "data": {
      "text/plain": [
       "[<matplotlib.lines.Line2D at 0x12a9227f0>]"
      ]
     },
     "execution_count": 517,
     "metadata": {},
     "output_type": "execute_result"
    },
    {
     "data": {
      "image/png": "[encoded data removed]",
      "text/plain": [
       "<Figure size 432x288 with 1 Axes>"
      ]
     },
     "metadata": {
      "needs_background": "light"
     },
     "output_type": "display_data"
    }
   ],
   "source": [
    "plt.plot(f0)"
   ]
  }
 ],
 "metadata": {
  "kernelspec": {
   "display_name": "Python 3",
   "language": "python",
   "name": "python3"
  },
  "language_info": {
   "codemirror_mode": {
    "name": "ipython",
    "version": 3
   },
   "file_extension": ".py",
   "mimetype": "text/x-python",
   "name": "python",
   "nbconvert_exporter": "python",
   "pygments_lexer": "ipython3",
   "version": "3.7.3"
  }
 },
 "nbformat": 4,
 "nbformat_minor": 2
}

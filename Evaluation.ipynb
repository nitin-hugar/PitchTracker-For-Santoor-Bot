{
 "cells": [
  {
   "cell_type": "code",
   "execution_count": 1,
   "metadata": {},
   "outputs": [
    {
     "name": "stderr",
     "output_type": "stream",
     "text": [
      "/Users/saksham/anaconda3/lib/python3.7/site-packages/scipy/__init__.py:149: UserWarning: A NumPy version >=1.16.5 and <1.23.0 is required for this version of SciPy (detected version 1.16.2\n",
      "  UserWarning)\n"
     ]
    }
   ],
   "source": [
    "import numpy as np\n",
    "import matplotlib.pyplot as plt\n",
    "import os\n",
    "import glob\n",
    "from scipy.io.wavfile import read as wavread\n",
    "import math\n",
    "import utilities\n",
    "import features"
   ]
  },
  {
   "cell_type": "code",
   "execution_count": 2,
   "metadata": {},
   "outputs": [],
   "source": [
    "# Read evaluation dataset\n",
    "path = os.getcwd() + '/flute-audio-labelled-database-AMT/'\n",
    "audio_path = path + 'Recordings/'\n",
    "annot_path = path + 'Aligned_files/text_files/'\n",
    "\n",
    "# Read all wav and txt files and sort the arrays\n",
    "wav_files = np.sort(glob.glob(os.path.join(audio_path, '*.wav')))\n",
    "annot_files = np.sort(glob.glob(os.path.join(annot_path,'*.txt')))\n",
    "\n",
    "# print (len(wav_files), wav_files[0], wav_files[-1])\n",
    "# print (len(annot_files), annot_files[0], annot_files[-1])"
   ]
  },
  {
   "cell_type": "code",
   "execution_count": 3,
   "metadata": {},
   "outputs": [],
   "source": [
    "# def block_audio(x, blockSize, hopSize, fs):\n",
    "#     # allocate memory\n",
    "#     numBlocks = math.ceil(x.size / hopSize)\n",
    "#     xb = np.zeros([numBlocks, blockSize])\n",
    "#     # compute time stamps\n",
    "#     t = (np.arange(0, numBlocks) * hopSize) / fs\n",
    "#     x = np.concatenate((x, np.zeros(blockSize)), axis=0)\n",
    "#     for n in range(0, numBlocks):\n",
    "#         i_start = n * hopSize\n",
    "#         i_stop = np.min([x.size - 1, i_start + blockSize - 1])\n",
    "#         xb[n][np.arange(0, blockSize)] = x[np.arange(i_start, i_stop + 1)]\n",
    "#     return xb, t\n",
    "\n",
    "# def compute_spectrogram(xb):\n",
    "#     numBlocks = xb.shape[0]\n",
    "#     afWindow = utilities.compute_hann(xb.shape[1])\n",
    "#     X = np.zeros([math.ceil(xb.shape[1] / 2 + 1), numBlocks])\n",
    "\n",
    "#     for n in range(0, numBlocks):\n",
    "#         # apply window\n",
    "#         tmp = abs(scipy.fftpack.fft(xb[n, :] * afWindow)) * 2 / xb.shape[1]\n",
    "\n",
    "#         # compute magnitude spectrum\n",
    "#         X[:, n] = tmp[range(math.ceil(tmp.size / 2 + 1))]\n",
    "#         X[[0, math.ceil(tmp.size / 2)], n] = X[[0, math.ceil(tmp.size / 2)], n] / np.sqrt(2)\n",
    "#         # let's be pedantic about normalization\n",
    "#     return X.T\n",
    "\n",
    "# def extract_spectral_flux(X):    \n",
    "    \n",
    "#     # X = compute_spectrogram(xb)\n",
    "#     # Compute spectral flux\n",
    "#     # Initialise blockNum and freqIndex\n",
    "#     n = 0\n",
    "#     k = 0\n",
    "\n",
    "#     spectral_flux = np.zeros(X.shape[0])\n",
    "\n",
    "#     for n in np.arange(X.shape[0]-1):\n",
    "#         flux_frame = 0\n",
    "#         for k in np.arange(X.shape[1]):\n",
    "#             flux = (abs(X[n+1, k]) - abs(X[n, k]))**2\n",
    "#             flux_frame += flux\n",
    "#         flux_frame = np.sqrt(flux_frame)/(X.shape[1]//2+1)\n",
    "#         spectral_flux[n] = flux_frame\n",
    "#     return spectral_flux\n",
    "\n",
    "# def onset_smoothening(envelope, n):\n",
    "#     # n: filter length - odd\n",
    "#     fltr = np.ones(n)\n",
    "#     envelope = np.append(np.zeros(n//2), envelope)\n",
    "#     envelope = np.append(envelope, np.zeros(n//2))\n",
    "#     filtered_envelope = np.zeros(len(envelope))\n",
    "    \n",
    "#     for i in np.arange(n//2, len(envelope)-n//2):\n",
    "#         block = envelope[i-n//2:i+n//2+1]\n",
    "#         avg = np.dot(block, fltr)/n\n",
    "#         filtered_envelope[i-n//2] = envelope[i]-avg\n",
    "        \n",
    "#     return filtered_envelope\n",
    "\n",
    "# def half_wave_rectification(spectral_flux):\n",
    "#     envelope = np.max([spectral_flux, np.zeros_like(spectral_flux)], axis = 0)\n",
    "#     envelope = envelope/max(envelope)\n",
    "#     return envelope\n",
    "\n",
    "# def pick_onsets(envelope, thres):\n",
    "#     peaks = envelope[envelope>thres] \n",
    "#     return peaks\n",
    "\n",
    "# def onset_detect(X, thres, n=5):\n",
    "#     # n = moving average filter for smoothening the envelope\n",
    "#     spectral_flux = extract_spectral_flux(X)\n",
    "#     smoothened_envelope = onset_smoothening(spectral_flux, n)\n",
    "#     plt.plot(smoothened_envelope)\n",
    "#     plt.show()\n",
    "#     # envelope = half_wave_rectification(spectral_flux)\n",
    "#     peaks = pick_onsets(smoothened_envelope, thres)\n",
    "#     return peaks"
   ]
  },
  {
   "cell_type": "code",
   "execution_count": 4,
   "metadata": {},
   "outputs": [],
   "source": [
    "def extract_spectral_flux(X):    \n",
    "    \n",
    "    # X = compute_spectrogram(xb)\n",
    "    # Compute spectral flux\n",
    "    # Initialise blockNum and freqIndex\n",
    "    n = 0\n",
    "    k = 0\n",
    "\n",
    "    spectral_flux = np.zeros(X.shape[0])\n",
    "\n",
    "    for n in np.arange(X.shape[0]-1):\n",
    "        flux_frame = 0\n",
    "        for k in np.arange(X.shape[1]):\n",
    "            flux = (abs(X[n+1, k]) - abs(X[n, k]))**2\n",
    "            flux_frame += flux\n",
    "        flux_frame = np.sqrt(flux_frame)/(X.shape[1]//2+1)\n",
    "        spectral_flux[n] = flux_frame\n",
    "    return spectral_flux\n",
    "\n",
    "def onset_smoothening(envelope, n):\n",
    "    # n: filter length - odd\n",
    "    fltr = np.ones(n)\n",
    "    envelope = np.append(np.zeros(n//2), envelope)\n",
    "    envelope = np.append(envelope, np.zeros(n//2))\n",
    "    filtered_envelope = np.zeros(len(envelope))\n",
    "    \n",
    "    for i in np.arange(n//2, len(envelope)-n//2):\n",
    "        block = envelope[i-n//2:i+n//2+1]\n",
    "        avg = np.dot(block, fltr)/n\n",
    "        filtered_envelope[i-n//2] = envelope[i]-avg\n",
    "        \n",
    "    return filtered_envelope\n",
    "\n",
    "def half_wave_rectification(spectral_flux):\n",
    "    envelope = np.max([spectral_flux, np.zeros_like(spectral_flux)], axis = 0)\n",
    "    envelope = envelope/max(envelope)\n",
    "    return envelope\n",
    "\n",
    "def hz2midi(hz):\n",
    "    voiced = np.nonzero(hz)[0]\n",
    "    midi = np.zeros(hz.shape[0])\n",
    "    midi[voiced] = np.round(69 + 12*np.log2(hz[voiced]/440.))\n",
    "    return midi\n",
    "\n",
    "def extract_pitch_chroma(f0c):\n",
    "    init = 48 #C3\n",
    "    pitch_classes = np.arange(init, init+12)\n",
    "\n",
    "    # scale = np.array([48, 50, 51, 53, 55, 56, 58, 60]) # C_MINOR\n",
    "    pitchChroma = np.zeros([12, f0c.shape[0]])\n",
    "    midi = hz2midi(f0c)\n",
    "    \n",
    "    tmp = midi-init\n",
    "    \n",
    "    for i in range(tmp.shape[0]):\n",
    "        if tmp[i] == -48:\n",
    "            pitchChroma[:, i] == 0\n",
    "        if (tmp[i] >= 0) and (tmp[i] < 12):\n",
    "            pitchChroma[int(tmp[i])-1, i] = 1      # Velocity value #tmp-1\n",
    "        elif tmp[i] >= 12:\n",
    "            val = tmp[i] - (int(tmp[i]/12)*12)      #changed tmp to val since there was a def error\n",
    "            pitchChroma[int(val)-1, i] = 1         # Velocity value \n",
    "        elif tmp[i] < 0:\n",
    "            val = tmp[i] + ((1+int(np.abs(tmp[i]/12)))*12)\n",
    "            pitchChroma[int(val)-1, i] = 1         # Velocity value\n",
    "        \n",
    "    return pitchChroma"
   ]
  },
  {
   "cell_type": "code",
   "execution_count": 7,
   "metadata": {},
   "outputs": [],
   "source": [
    "\"\"\"\n",
    "Changes:\n",
    "1. Call functions from packages instead of calling them from the same file\n",
    "\"\"\"\n",
    "\n",
    "## Edited functions\n",
    "def pick_onsets(envelope, thres):\n",
    "    peaks = np.where(envelope>thres)[0]\n",
    "    return peaks\n",
    "\n",
    "def onset_detect(X, thres, hopSize, fs, n=5):\n",
    "    # n = moving average filter for smoothening the envelope\n",
    "    spectral_flux = extract_spectral_flux(X)\n",
    "    smoothened_envelope = onset_smoothening(spectral_flux, n)\n",
    "    envelope = half_wave_rectification(smoothened_envelope)\n",
    "    envelope = envelope/max(envelope)\n",
    "    plt.plot(envelope)\n",
    "    plt.show()\n",
    "    peaks = pick_onsets(envelope, thres)\n",
    "    # print (envelope[peaks])\n",
    "    timestamps = convert_frames_to_time(peaks, hopSize, fs)\n",
    "    return timestamps\n",
    "\n",
    "## New functions\n",
    "def convert_frames_to_time(peaks, hopSize, fs):\n",
    "    timestamps = peaks*hopSize/fs\n",
    "    return timestamps\n",
    "\n",
    "# Read onsets and pitch from a txt file\n",
    "\n",
    "def read_annot(txtfile):\n",
    "    # txtfile: Full path of the text file\n",
    "    with open(txtfile) as f:\n",
    "        lines = np.array(f.readlines())\n",
    "        lines = lines[4:-1]\n",
    "        annot_onset_times = np.array([])\n",
    "        annot_pitches = np.array([])\n",
    "        annot_durs = np.array([])\n",
    "        for data in lines:\n",
    "            tmp = data.split(' ')\n",
    "            annot_onset_time = tmp[0]\n",
    "            annot_onset_times = np.append(annot_onset_times, annot_onset_time)\n",
    "            annot_pitch = np.float(tmp[2][:-2])\n",
    "            annot_pitches = np.append(annot_pitches, annot_pitch)\n",
    "            annot_dur = np.float(tmp[1])\n",
    "            annot_durs = np.append(annot_durs, annot_dur)\n",
    "        annot_onset_times = annot_onset_times.astype('float32')\n",
    "        annot_pitches = annot_pitches.astype('float32')\n",
    "        annot_durs = annot_durs.astype('float32')\n",
    "        annot_offsets = annot_onset_times + annot_durs\n",
    "        return annot_onset_times, annot_pitches, annot_durs, annot_offsets\n",
    "\n",
    "# Convert pitch annotations to comparable format\n",
    "\n",
    "def f0_array_from_annot(annot_onsets, annot_durs, annot_pitches, f0, fs, hopSize):\n",
    "\n",
    "    annot_offsets = annot_onsets + annot_durs\n",
    "\n",
    "    # 1. Convert timestamps to blocks\n",
    "    annot_onsets_blocks = (annot_onsets*fs/hopSize).astype(int)\n",
    "    annot_offsets_blocks = (annot_offsets*fs/hopSize).astype(int)\n",
    "\n",
    "    # Create pitch array based on annotated blocks\n",
    "    f0_gt_array = np.zeros(len(f0))\n",
    "    for i in np.arange(len(annot_onsets_blocks)):\n",
    "        f0_gt_array[annot_onsets_blocks[i]:annot_offsets_blocks[i]] = annot_pitches[i]\n",
    "\n",
    "    return f0_gt_array\n",
    "\n",
    "def convert_freq2midi(freqInHz): \n",
    "\n",
    "    \"\"\"Returns a variable pitchInMIDI of the same dimension as freqInHz. \n",
    "    Note that the dimension of freqInHz can be a scalar, a vector, or a matrix. \n",
    "    The conversion is described in Textbook Section: 7.2.3. Assume f(A4) = 440Hz.\"\"\"\n",
    "    \n",
    "    pitchInMIDI  =  12*np.log2(freqInHz/440) + 69\n",
    "\n",
    "    \n",
    "    return pitchInMIDI\n",
    "\n",
    "def remove_zero_from_f0(predicted_f0, annot_f0):\n",
    "\n",
    "    # Removes 0 from predicted f0 based on gt\n",
    "\n",
    "    gt_final = np.array([])\n",
    "    predicted_final = np.array([])\n",
    "\n",
    "    for i in np.arange(len(predicted_f0)):\n",
    "        if annot_f0[i] != 0:\n",
    "            gt_final = np.append(gt_final, annot_f0[i])\n",
    "            predicted_final = np.append(predicted_final, predicted_f0[i])\n",
    "    return predicted_final, gt_final\n",
    "\n",
    "def err_rms_cents(pred, gt):\n",
    "    error = pred-gt\n",
    "    errorCents = error*100\n",
    "    errCentRms = (np.dot(errorCents, errorCents)/len(errorCents))**(1/2)\n",
    "\n",
    "    return errCentRms"
   ]
  },
  {
   "cell_type": "code",
   "execution_count": 8,
   "metadata": {},
   "outputs": [
    {
     "name": "stdout",
     "output_type": "stream",
     "text": [
      "Duration:  13.104421768707484\n"
     ]
    },
    {
     "data": {
      "image/png": "[encoded data removed]",
      "text/plain": [
       "<Figure size 432x288 with 1 Axes>"
      ]
     },
     "metadata": {
      "needs_background": "light"
     },
     "output_type": "display_data"
    }
   ],
   "source": [
    "blockSize = 2048\n",
    "hopSize = blockSize//2\n",
    "fs = 44100\n",
    "onset_thres = 0.02\n",
    "\n",
    "\n",
    "\n",
    "# Evaluate one file\n",
    "# for i, file in enumerate(wav_files):\n",
    "\n",
    "i = 10\n",
    "file = wav_files[i]\n",
    "# Read audio\n",
    "fs, x = utilities.ToolReadAudio(file)\n",
    "print ('Duration: ', len(x)/fs)\n",
    "# Read annotations for the file\n",
    "annot_onsets, annot_pitches, annot_durs, annot_offsets = read_annot(annot_files[i])\n",
    "\n",
    "# Detect onsets from audio file\n",
    "xb, t = utilities.block_audio(x, blockSize, hopSize, fs)\n",
    "X = features.compute_spectrogram(xb)\n",
    "\n",
    "audio_onsets = onset_detect(X, onset_thres, hopSize, fs, n=5)"
   ]
  },
  {
   "cell_type": "code",
   "execution_count": 9,
   "metadata": {},
   "outputs": [
    {
     "name": "stdout",
     "output_type": "stream",
     "text": [
      "# Annotated onsets:  13\n",
      "# Annotated offsets:  13\n",
      "# Predicted onsets:  59\n",
      "Annotated onsets timestamps:  [ 1.021875  1.903125  2.832292  3.761458  4.597917  5.479167  6.454167\n",
      "  7.197917  8.080208  8.9625    9.844792 10.727083 11.748958]\n",
      "Annotated offsets timestamps:  [ 1.4468751  2.207292   3.136459   4.046875   4.889584   5.765625\n",
      "  6.630209   7.483334   8.314583   9.171875  10.034375  10.920834\n",
      " 12.055207 ]\n",
      "Predicted onsets timestamps:  [ 0.9752381   1.36997732  1.39319728  1.85759637  1.88081633  2.11301587\n",
      "  2.13623583  2.80961451  2.83283447  3.0185941   3.04181406  3.7384127\n",
      "  3.76163265  3.78485261  3.92417234  3.94739229  4.62077098  4.66721088\n",
      "  4.73687075  4.7600907   4.78331066  4.80653061  5.4799093   5.52634921\n",
      "  5.61922902  5.68888889  6.40870748  6.43192744  6.45514739  6.52480726\n",
      "  6.54802721  6.57124717  7.19818594  7.2214059   7.2678458   7.36072562\n",
      "  7.40716553  8.08054422  8.10376417  8.12698413  8.21986395  8.91646259\n",
      "  8.93968254  9.03256236  9.05578231  9.07900227  9.10222222  9.84526077\n",
      "  9.86848073  9.93814059  9.96136054 10.68117914 10.750839   10.82049887\n",
      " 10.84371882 10.86693878 11.74929705 11.95827664 11.9814966 ]\n"
     ]
    }
   ],
   "source": [
    "print ('# Annotated onsets: ', len(annot_onsets))\n",
    "print ('# Annotated offsets: ', len(annot_offsets))\n",
    "print ('# Predicted onsets: ', len(audio_onsets))\n",
    "print ('Annotated onsets timestamps: ', annot_onsets)\n",
    "print ('Annotated offsets timestamps: ', annot_offsets)\n",
    "print ('Predicted onsets timestamps: ', audio_onsets)"
   ]
  },
  {
   "cell_type": "code",
   "execution_count": 10,
   "metadata": {},
   "outputs": [
    {
     "data": {
      "text/plain": [
       "'\\n# Onset search\\n\\n1. From the 1st onset, search a 0.05s window for any onset. If onset is found, \\n2. then add it to an array to later compute on, and start another scan for next 0.05s. \\n3. Repeat the process unless no new onset is found.\\n4. Find onset - 1. Take max of amplitude of each onset-search section to get onsets or 2. Take avg of timestamp\\n\\n'"
      ]
     },
     "execution_count": 10,
     "metadata": {},
     "output_type": "execute_result"
    }
   ],
   "source": [
    "\"\"\"\n",
    "# Onset search\n",
    "\n",
    "1. From the 1st onset, search a 0.05s window for any onset. If onset is found, \n",
    "2. then add it to an array to later compute on, and start another scan for next 0.05s. \n",
    "3. Repeat the process unless no new onset is found.\n",
    "4. Find onset - 1. Take max of amplitude of each onset-search section to get onsets or 2. Take avg of timestamp\n",
    "\n",
    "\"\"\""
   ]
  },
  {
   "cell_type": "code",
   "execution_count": 11,
   "metadata": {},
   "outputs": [],
   "source": [
    "search_range = 0.05 # Range in ms\n",
    "onsets_cleaned = np.array([])\n",
    "\n",
    "audio_onsets = audio_onsets.astype('float32')\n",
    "j = 0\n",
    "\n",
    "tmps = []\n",
    "while j <= len(audio_onsets):\n",
    "    tmp = np.array([audio_onsets[j]])\n",
    "    while audio_onsets[j+1] - audio_onsets[j] <= 0.05:\n",
    "        tmp = np.append(tmp, audio_onsets[j+1])\n",
    "        j += 1\n",
    "    tmps.append(tmp)"
   ]
  },
  {
   "cell_type": "code",
   "execution_count": null,
   "metadata": {},
   "outputs": [],
   "source": [
    "A = 3\n",
    "A"
   ]
  },
  {
   "cell_type": "code",
   "execution_count": 344,
   "metadata": {},
   "outputs": [
    {
     "name": "stdout",
     "output_type": "stream",
     "text": [
      "[ 0.9752381   1.36997732  1.39319728  1.85759637  1.88081633  2.11301587\n",
      "  2.13623583  2.80961451  2.83283447  3.0185941   3.04181406  3.7384127\n",
      "  3.76163265  3.78485261  3.92417234  3.94739229  4.62077098  4.66721088\n",
      "  4.73687075  4.7600907   4.78331066  4.80653061  5.4799093   5.52634921\n",
      "  5.61922902  5.68888889  6.40870748  6.43192744  6.45514739  6.52480726\n",
      "  6.54802721  6.57124717  7.19818594  7.2214059   7.2678458   7.36072562\n",
      "  7.40716553  8.08054422  8.10376417  8.12698413  8.21986395  8.91646259\n",
      "  8.93968254  9.03256236  9.05578231  9.07900227  9.10222222  9.84526077\n",
      "  9.86848073  9.93814059  9.96136054 10.68117914 10.750839   10.82049887\n",
      " 10.84371882 10.86693878 11.74929705 11.95827664 11.9814966 ]\n",
      "[ 1  3  5  7  9 11 12 14 16 18 19 20 22 26 27 29 30 32 33 35 37 38 41 43\n",
      " 44 45 47 49 53 54 57]\n",
      "[0.39473927 0.02321994 0.4643991  0.02321994 0.23219955 0.02321982\n",
      " 0.6733787  0.02322006 0.18575954 0.02322006 0.69659853 0.02322006\n",
      " 0.02321982 0.1393199  0.02321982 0.6733787  0.04644012 0.06965971\n",
      " 0.02322006 0.02322006 0.02321959 0.67337894 0.04643965 0.09287977\n",
      " 0.06966019 0.7198186  0.02321959 0.02322006 0.06966019 0.02321959\n",
      " 0.02322006 0.6269388  0.02322006 0.04643965 0.09287977 0.04644012\n",
      " 0.67337894 0.02322006 0.02322006 0.0928793  0.696599   0.02322006\n",
      " 0.0928793  0.02322006 0.02322006 0.02322006 0.7430382  0.02322006\n",
      " 0.06966019 0.02322006 0.7198181  0.06966019 0.06965923 0.02322006\n",
      " 0.02322006 0.88235855 0.2089796  0.02322006]\n",
      "pin: 0 pend:  1\n",
      "[0.9752381]\n",
      "pin:  1 pend:  3\n",
      "[1.36997732 1.39319728]\n",
      "[0.02321994 0.4643991 ]\n",
      "pin:  3 pend:  5\n",
      "[1.85759637 1.88081633]\n",
      "[0.02321994 0.23219955]\n",
      "pin:  5 pend:  7\n",
      "[2.11301587 2.13623583]\n",
      "[0.02321982 0.6733787 ]\n",
      "pin:  7 pend:  9\n",
      "[2.80961451 2.83283447]\n",
      "[0.02322006 0.18575954]\n",
      "pin:  9 pend:  11\n",
      "[3.0185941  3.04181406]\n",
      "[0.02322006 0.69659853]\n",
      "pin:  11 pend:  12\n",
      "[3.7384127]\n",
      "[0.02322006]\n",
      "pin:  12 pend:  14\n",
      "[3.76163265 3.78485261]\n",
      "[0.02321982 0.1393199 ]\n",
      "pin:  14 pend:  16\n",
      "[3.92417234 3.94739229]\n",
      "[0.02321982 0.6733787 ]\n",
      "pin:  16 pend:  18\n",
      "[4.62077098 4.66721088]\n",
      "[0.04644012 0.06965971]\n",
      "pin:  18 pend:  19\n",
      "[4.73687075]\n",
      "[0.02322006]\n",
      "pin:  19 pend:  20\n",
      "[4.7600907]\n",
      "[0.02322006]\n",
      "pin:  20 pend:  22\n",
      "[4.78331066 4.80653061]\n",
      "[0.02321959 0.67337894]\n",
      "pin:  22 pend:  26\n",
      "[5.4799093  5.52634921 5.61922902 5.68888889]\n",
      "[0.04643965 0.09287977 0.06966019 0.7198186 ]\n",
      "pin:  26 pend:  27\n",
      "[6.40870748]\n",
      "[0.02321959]\n",
      "pin:  27 pend:  29\n",
      "[6.43192744 6.45514739]\n",
      "[0.02322006 0.06966019]\n",
      "pin:  29 pend:  30\n",
      "[6.52480726]\n",
      "[0.02321959]\n",
      "pin:  30 pend:  32\n",
      "[6.54802721 6.57124717]\n",
      "[0.02322006 0.6269388 ]\n",
      "pin:  32 pend:  33\n",
      "[7.19818594]\n",
      "[0.02322006]\n",
      "pin:  33 pend:  35\n",
      "[7.2214059 7.2678458]\n",
      "[0.04643965 0.09287977]\n",
      "pin:  35 pend:  37\n",
      "[7.36072562 7.40716553]\n",
      "[0.04644012 0.67337894]\n",
      "pin:  37 pend:  38\n",
      "[8.08054422]\n",
      "[0.02322006]\n",
      "pin:  38 pend:  41\n",
      "[8.10376417 8.12698413 8.21986395]\n",
      "[0.02322006 0.0928793  0.696599  ]\n",
      "pin:  41 pend:  43\n",
      "[8.91646259 8.93968254]\n",
      "[0.02322006 0.0928793 ]\n",
      "pin:  43 pend:  44\n",
      "[9.03256236]\n",
      "[0.02322006]\n",
      "pin:  44 pend:  45\n",
      "[9.05578231]\n",
      "[0.02322006]\n",
      "pin:  45 pend:  47\n",
      "[9.07900227 9.10222222]\n",
      "[0.02322006 0.7430382 ]\n",
      "pin:  47 pend:  49\n",
      "[9.84526077 9.86848073]\n",
      "[0.02322006 0.06966019]\n",
      "pin:  49 pend:  53\n",
      "[ 9.93814059  9.96136054 10.68117914 10.750839  ]\n",
      "[0.02322006 0.7198181  0.06966019 0.06965923]\n",
      "pin:  53 pend:  54\n",
      "[10.82049887]\n",
      "[0.02322006]\n",
      "pin:  57\n",
      "[11.95827664 11.9814966 ]\n"
     ]
    }
   ],
   "source": [
    "search_range = 0.05 # Range in ms\n",
    "onsets_cleaned = np.array([])\n",
    "\n",
    "diff = np.diff(audio_onsets.astype('float32'))\n",
    "clusters = np.where(diff<=0.05)[0]\n",
    "print (audio_onsets)\n",
    "# print (diff[clusters])\n",
    "print (clusters)\n",
    "print (diff)\n",
    "\n",
    "for i in np.arange(len(clusters)):\n",
    "    if i == 0:\n",
    "        pend = int(clusters[0])\n",
    "        cluster = audio_onsets[:pend]\n",
    "        # print (i)\n",
    "        print ('pin: 0 pend: ', pend)\n",
    "        print (cluster)\n",
    "    if i == len(clusters)-1:\n",
    "        # print (i)\n",
    "        pin = int(clusters[-1])\n",
    "        cluster = audio_onsets[pin:]\n",
    "        print ('pin: ', pin)\n",
    "        print (cluster)\n",
    "    elif i > 0 and i < len(clusters):\n",
    "        pin = int(clusters[i-1])\n",
    "        pend = int(clusters[i])\n",
    "        cluster = audio_onsets[pin:pend]\n",
    "        print ('pin: ', pin, 'pend: ', pend)\n",
    "        # print (i)\n",
    "        print (cluster)\n",
    "        print (diff[pin:pend])\n",
    "        # print (diff[pin:pend])\n",
    "        # print (clusters[pin:pend])\n",
    "    i += 1\n",
    "\n",
    "# clusters_padded = np.append(0, clusters)\n",
    "# # print (len(clusters_padded))\n",
    "# for i in np.arange(len(clusters_padded)):\n",
    "#     if i == len(clusters_padded)-1:\n",
    "#         pin = clusters_padded[i]\n",
    "#         cluster = audio_onsets[pin:]\n",
    "#         print (cluster)\n",
    "#     else:\n",
    "#         pin = clusters_padded[i]\n",
    "#         pend = clusters_padded[i+1]\n",
    "#         cluster = audio_onsets[pin:pend]\n",
    "#         print (cluster)\n",
    "#     i += 1\n",
    "#     # print ('pin: ', pin, 'pend: ', pend)\n",
    "#     # print ('test: ', audio_onsets[pin:pend])"
   ]
  },
  {
   "cell_type": "code",
   "execution_count": null,
   "metadata": {},
   "outputs": [],
   "source": []
  },
  {
   "cell_type": "code",
   "execution_count": null,
   "metadata": {},
   "outputs": [],
   "source": [
    "# Open all files\n",
    "# Read audio from one file\n",
    "# Read annotation from that file\n",
    "# Extract pitch and onset from one file\n",
    "# Compute error in pitch and onset and store them in an array which will be appended for all files\n",
    "# Onset evaluation - # Total number of onsets and proximity to the closest detected onset\n",
    "# Pitch evaluation - Pitch class comparison"
   ]
  },
  {
   "cell_type": "code",
   "execution_count": 240,
   "metadata": {},
   "outputs": [
    {
     "name": "stdout",
     "output_type": "stream",
     "text": [
      "False\n",
      "inf\n"
     ]
    },
    {
     "name": "stderr",
     "output_type": "stream",
     "text": [
      "/Users/saksham/anaconda3/lib/python3.7/site-packages/ipykernel_launcher.py:75: RuntimeWarning: divide by zero encountered in log2\n"
     ]
    }
   ],
   "source": [
    "# Detect f0\n",
    "rec_duration = 1.0 # Block size to analyse at one go\n",
    "onsets_thres = 0.8 # Peak picking threshold for onsets\n",
    "t = -199 # Spectral peak detection threshold in dB for f0 estimation    t changed from -100 to -150\n",
    "thres_dB = -40 # Voicing mask threshold in dB\n",
    "f0min = 80\n",
    "f0max = 2000\n",
    "w = np.hanning(blockSize)\n",
    "\n",
    "\n",
    "f0c, f0err = features.f0_detection_TWM(xb, w, blockSize, t, f0min, f0max, fs)\n",
    "f0 = features.detect_silence(xb, f0c, thres_dB)\n",
    "\n",
    "# Convert annotations to comparable f0 array\n",
    "f0_gt_array = f0_array_from_annot(annot_onsets, annot_durs, annot_pitches, f0, fs, hopSize)\n",
    "\n",
    "# Convert freq to Hz and remove 0s from annotations for evaluations\n",
    "f0pred_nz, f0gt_nz = remove_zero_from_f0(f0, f0_gt_array)\n",
    "f0pred_nz_hz = convert_freq2midi(f0pred_nz)\n",
    "f0gt_nz_hz = convert_freq2midi(f0gt_nz)\n",
    "\n",
    "errCentRms = err_rms_cents(f0pred_nz_hz, f0gt_nz_hz)\n",
    "print (errCentRms)"
   ]
  },
  {
   "cell_type": "code",
   "execution_count": 238,
   "metadata": {},
   "outputs": [],
   "source": []
  },
  {
   "cell_type": "code",
   "execution_count": 235,
   "metadata": {},
   "outputs": [
    {
     "data": {
      "text/plain": [
       "[<matplotlib.lines.Line2D at 0x12d1a5668>]"
      ]
     },
     "execution_count": 235,
     "metadata": {},
     "output_type": "execute_result"
    },
    {
     "data": {
      "image/png": "[encoded data removed]",
      "text/plain": [
       "<Figure size 432x288 with 1 Axes>"
      ]
     },
     "metadata": {
      "needs_background": "light"
     },
     "output_type": "display_data"
    }
   ],
   "source": [
    "plt.plot(f0pred_nz_hz)"
   ]
  },
  {
   "cell_type": "code",
   "execution_count": 236,
   "metadata": {},
   "outputs": [
    {
     "data": {
      "text/plain": [
       "[<matplotlib.lines.Line2D at 0x12bdb59e8>]"
      ]
     },
     "execution_count": 236,
     "metadata": {},
     "output_type": "execute_result"
    },
    {
     "data": {
      "image/png": "[encoded data removed]",
      "text/plain": [
       "<Figure size 432x288 with 1 Axes>"
      ]
     },
     "metadata": {
      "needs_background": "light"
     },
     "output_type": "display_data"
    }
   ],
   "source": [
    "plt.plot(f0gt_nz_hz)"
   ]
  },
  {
   "cell_type": "code",
   "execution_count": 228,
   "metadata": {},
   "outputs": [
    {
     "data": {
      "text/plain": [
       "[<matplotlib.lines.Line2D at 0x11f5cfda0>]"
      ]
     },
     "execution_count": 228,
     "metadata": {},
     "output_type": "execute_result"
    },
    {
     "data": {
      "image/png": "[encoded data removed]",
      "text/plain": [
       "<Figure size 432x288 with 1 Axes>"
      ]
     },
     "metadata": {
      "needs_background": "light"
     },
     "output_type": "display_data"
    }
   ],
   "source": [
    "plt.plot(f0_gt_array)"
   ]
  },
  {
   "cell_type": "code",
   "execution_count": 225,
   "metadata": {},
   "outputs": [
    {
     "name": "stdout",
     "output_type": "stream",
     "text": [
      "[ 1.021875  1.903125  2.832292  3.761458  4.597917  5.479167  6.454167\n",
      "  7.197917  8.080208  8.9625    9.844792 10.727083 11.748958] [ 1.4468751  2.207292   3.136459   4.046875   4.889584   5.765625\n",
      "  6.630209   7.483334   8.314583   9.171875  10.034375  10.920834\n",
      " 12.055207 ]\n",
      "[ 44  81 121 161 198 235 277 309 347 385 423 461 505] [ 62  95 135 174 210 248 285 322 358 394 432 470 519]\n"
     ]
    }
   ],
   "source": [
    "print (annot_onsets, annot_offsets)\n",
    "print (annot_onsets_blocks, annot_offsets_blocks)"
   ]
  },
  {
   "cell_type": "code",
   "execution_count": 188,
   "metadata": {},
   "outputs": [
    {
     "data": {
      "image/png": "[encoded data removed]",
      "text/plain": [
       "<Figure size 1080x504 with 1 Axes>"
      ]
     },
     "metadata": {
      "needs_background": "light"
     },
     "output_type": "display_data"
    }
   ],
   "source": [
    "# pitchChroma = features.extract_pitch_chroma(X, fs, 440.)\n",
    "pitchChroma = features.extract_pitch_chroma(f0)\n",
    "\n",
    "#plot pitch chroma\n",
    "plt.figure(figsize=(15, 7))\n",
    "plt.pcolormesh(pitchChroma)\n",
    "plt.title(\"PitchChroma\")\n",
    "plt.xlabel(\"Blocks\")\n",
    "plt.ylabel(\"Chroma\")\n",
    "plt.show()"
   ]
  },
  {
   "cell_type": "code",
   "execution_count": 189,
   "metadata": {},
   "outputs": [
    {
     "data": {
      "text/plain": [
       "[<matplotlib.lines.Line2D at 0x12d23b2e8>]"
      ]
     },
     "execution_count": 189,
     "metadata": {},
     "output_type": "execute_result"
    },
    {
     "data": {
      "image/png": "[encoded data removed]",
      "text/plain": [
       "<Figure size 1080x432 with 1 Axes>"
      ]
     },
     "metadata": {
      "needs_background": "light"
     },
     "output_type": "display_data"
    }
   ],
   "source": [
    "plt.figure(figsize = (15, 6))\n",
    "plt.plot(f0)"
   ]
  },
  {
   "cell_type": "code",
   "execution_count": 181,
   "metadata": {},
   "outputs": [
    {
     "data": {
      "text/plain": [
       "array([0., 0., 0., 0., 0., 0., 0., 0., 0., 0., 0., 1.])"
      ]
     },
     "execution_count": 181,
     "metadata": {},
     "output_type": "execute_result"
    }
   ],
   "source": [
    "pitchChroma[:, 15]"
   ]
  },
  {
   "cell_type": "code",
   "execution_count": null,
   "metadata": {},
   "outputs": [],
   "source": []
  }
 ],
 "metadata": {
  "interpreter": {
   "hash": "aee8b7b246df8f9039afb4144a1f6fd8d2ca17a180786b69acc140d282b71a49"
  },
  "kernelspec": {
   "display_name": "Python 3.7.4 64-bit",
   "language": "python",
   "name": "python3"
  },
  "language_info": {
   "codemirror_mode": {
    "name": "ipython",
    "version": 3
   },
   "file_extension": ".py",
   "mimetype": "text/x-python",
   "name": "python",
   "nbconvert_exporter": "python",
   "pygments_lexer": "ipython3",
   "version": "3.7.3"
  },
  "orig_nbformat": 4
 },
 "nbformat": 4,
 "nbformat_minor": 2
}
